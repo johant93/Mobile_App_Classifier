{
 "cells": [
  {
   "cell_type": "code",
   "execution_count": 1,
   "metadata": {},
   "outputs": [
    {
     "ename": "ModuleNotFoundError",
     "evalue": "No module named 'core'",
     "output_type": "error",
     "traceback": [
      "\u001b[0;31m---------------------------------------------------------------------------\u001b[0m",
      "\u001b[0;31mModuleNotFoundError\u001b[0m                       Traceback (most recent call last)",
      "\u001b[0;32m<ipython-input-1-e2264146da16>\u001b[0m in \u001b[0;36m<module>\u001b[0;34m\u001b[0m\n\u001b[0;32m----> 1\u001b[0;31m \u001b[0;32mfrom\u001b[0m \u001b[0mcore\u001b[0m\u001b[0;34m.\u001b[0m\u001b[0mConverter\u001b[0m \u001b[0;32mimport\u001b[0m \u001b[0mConverter\u001b[0m\u001b[0;34m\u001b[0m\u001b[0m\n\u001b[0m",
      "\u001b[0;31mModuleNotFoundError\u001b[0m: No module named 'core'"
     ]
    }
   ],
   "source": [
    "from core.Converter import Converter"
   ]
  },
  {
   "cell_type": "markdown",
   "metadata": {},
   "source": [
    "\n",
    "<br>\n",
    "Convert all relevant pcap files in the given ROOT_DIRECTORY with the given feature_list and save the results to the output_filename<br>\n"
   ]
  },
  {
   "cell_type": "code",
   "execution_count": null,
   "metadata": {},
   "outputs": [],
   "source": [
    "def work(\n",
    "    ROOT_DIRECTORY,\n",
    "    output_filename='samples.csv',\n",
    "    rename_space_underscore=False,\n",
    "    feature_list=['packet_count', 'sizemean', 'sizevar', 'std_fiat', 'std_biat', 'fpackets', 'bpackets', 'fbytes', 'bbytes', 'min_fiat', 'min_biat', 'max_fiat', 'max_biat', 'std_fiat', 'std_biat', 'mean_fiat', 'mean_biat', 'min_fpkt', 'min_bpkt', 'max_fpkt', 'max_bpkt', 'std_fpkt', 'std_bpkt', 'mean_fpkt', 'mean_bpkt']\n",
    "    ):\n",
    "    if rename_space_underscore:\n",
    "        space_to_underscore(ROOT_DIRECTORY)\n",
    "    features = feature_list\n",
    "    conv = Converter(ROOT_DIRECTORY, feature_list)\n",
    "    conv.activate()\n",
    "    feature_list.append('label')\n",
    "    conv.write_to_csv(ROOT_DIRECTORY + '/' + output_filename, separator='\\t', column_names=feature_list)"
   ]
  },
  {
   "cell_type": "markdown",
   "metadata": {},
   "source": [
    "\n",
    "<br>\n",
    "IMPLEMENT<br>\n",
    "UI - For end users who dont want to write code<br>\n"
   ]
  },
  {
   "cell_type": "code",
   "execution_count": null,
   "metadata": {},
   "outputs": [],
   "source": [
    "def start_here():\n",
    "    print \"Assuming config file is up-to-date\"\n",
    "    print '---'\n",
    "    print \"Enter data root directory: \"\n",
    "    ROOT_DIR = raw_input()\n",
    "    print \"Enter output filename: \"\n",
    "    out_file = raw_input()\n",
    "    print \"The system does not cope with spaces in folder / file names.\"\n",
    "    print \"Replace spaces with underscores in given directory?\"\n",
    "    print \"Type y / n\"\n",
    "    rename_space_under_input = raw_input()\n",
    "    if rename_space_under_input == 'y':\n",
    "        rename_space_under = True\n",
    "    elif rename_space_under_input == 'n':\n",
    "        rename_space_under = False\n",
    "    \"\"\"\n",
    "    Read feature_list from config file\n",
    "    \"\"\"\n",
    "    work(ROOT_DIRECTORY=ROOT_DIR, output_filename=out_file, rename_space_underscore=rename_space_under)"
   ]
  }
 ],
 "metadata": {
  "kernelspec": {
   "display_name": "Python 3",
   "language": "python",
   "name": "python3"
  },
  "language_info": {
   "codemirror_mode": {
    "name": "ipython",
    "version": 3
   },
   "file_extension": ".py",
   "mimetype": "text/x-python",
   "name": "python",
   "nbconvert_exporter": "python",
   "pygments_lexer": "ipython3",
   "version": "3.6.5"
  }
 },
 "nbformat": 4,
 "nbformat_minor": 2
}
