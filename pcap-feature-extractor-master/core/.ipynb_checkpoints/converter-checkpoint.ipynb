{
 "cells": [
  {
   "cell_type": "code",
   "execution_count": 1,
   "metadata": {},
   "outputs": [
    {
     "ename": "ModuleNotFoundError",
     "evalue": "No module named 'containers'",
     "output_type": "error",
     "traceback": [
      "\u001b[0;31m---------------------------------------------------------------------------\u001b[0m",
      "\u001b[0;31mModuleNotFoundError\u001b[0m                       Traceback (most recent call last)",
      "\u001b[0;32m<ipython-input-1-a7927f4d0032>\u001b[0m in \u001b[0;36m<module>\u001b[0;34m\u001b[0m\n\u001b[0;32m----> 1\u001b[0;31m \u001b[0;32mfrom\u001b[0m \u001b[0mcontainers\u001b[0m\u001b[0;34m.\u001b[0m\u001b[0mSession\u001b[0m \u001b[0;32mimport\u001b[0m \u001b[0mSession\u001b[0m\u001b[0;34m\u001b[0m\u001b[0m\n\u001b[0m\u001b[1;32m      2\u001b[0m \u001b[0;32mfrom\u001b[0m \u001b[0mutils\u001b[0m\u001b[0;34m.\u001b[0m\u001b[0mgeneral\u001b[0m \u001b[0;32mimport\u001b[0m \u001b[0mgen_pcap_filenames\u001b[0m\u001b[0;34m,\u001b[0m \u001b[0mgen_data_folders\u001b[0m\u001b[0;34m,\u001b[0m \u001b[0mparse_folder_name\u001b[0m\u001b[0;34m,\u001b[0m \u001b[0mgen_label\u001b[0m\u001b[0;34m\u001b[0m\u001b[0m\n\u001b[1;32m      3\u001b[0m \u001b[0;32mfrom\u001b[0m \u001b[0mutils\u001b[0m\u001b[0;34m.\u001b[0m\u001b[0mhcl_helpers\u001b[0m \u001b[0;32mimport\u001b[0m \u001b[0mread_label_data\u001b[0m\u001b[0;34m\u001b[0m\u001b[0m\n\u001b[1;32m      4\u001b[0m \u001b[0;32mfrom\u001b[0m \u001b[0mfunctools\u001b[0m \u001b[0;32mimport\u001b[0m \u001b[0mpartial\u001b[0m\u001b[0;34m\u001b[0m\u001b[0m\n\u001b[1;32m      5\u001b[0m \u001b[0;32mfrom\u001b[0m \u001b[0mmultiprocessing\u001b[0m \u001b[0;32mimport\u001b[0m \u001b[0mPool\u001b[0m\u001b[0;34m\u001b[0m\u001b[0m\n",
      "\u001b[0;31mModuleNotFoundError\u001b[0m: No module named 'containers'"
     ]
    }
   ],
   "source": [
    "from containers.Session import Session\n",
    "from utils.general import gen_pcap_filenames, gen_data_folders, parse_folder_name, gen_label\n",
    "from utils.hcl_helpers import read_label_data\n",
    "from functools import partial\n",
    "from multiprocessing import Pool\n",
    "import numpy as np\n",
    "import pandas as pd"
   ]
  },
  {
   "cell_type": "markdown",
   "metadata": {},
   "source": [
    "\n",
    "<br>\n",
    "FIX:<br>\n"
   ]
  },
  {
   "cell_type": "markdown",
   "metadata": {},
   "source": [
    "\n",
    "<br>\n",
    "Instructions:<br>\n",
    "\t1. Create a converter object<br>\n",
    "\t2. activate<br>\n",
    "\t3. Access / get / write data<br>\n"
   ]
  },
  {
   "cell_type": "code",
   "execution_count": 2,
   "metadata": {},
   "outputs": [
    {
     "ename": "SyntaxError",
     "evalue": "Missing parentheses in call to 'print'. Did you mean print('Initializing...')? (<ipython-input-2-785554c70527>, line 4)",
     "output_type": "error",
     "traceback": [
      "\u001b[0;36m  File \u001b[0;32m\"<ipython-input-2-785554c70527>\"\u001b[0;36m, line \u001b[0;32m4\u001b[0m\n\u001b[0;31m    print 'Initializing...'\u001b[0m\n\u001b[0m                          ^\u001b[0m\n\u001b[0;31mSyntaxError\u001b[0m\u001b[0;31m:\u001b[0m Missing parentheses in call to 'print'. Did you mean print('Initializing...')?\n"
     ]
    }
   ],
   "source": [
    "class Converter(object):\n",
    "\t\"\"\" FIX - Fix default feature_methods_list \"\"\"\n",
    "\tdef __init__(self, PARENT_DIRECTORY, feature_methods_list=['packet_count', 'sizemean', 'sizevar']):\n",
    "\t\tprint 'Initializing...'\n",
    "\t\tprint\n",
    "\t\tself.p = Pool(16)\n",
    "\t\tself.data_folders = gen_data_folders(PARENT_DIRECTORY)\n",
    "\t\tself.feature_methods = feature_methods_list\n",
    "\t\tself.all_samples = np.array([])\n",
    "\t\tprint 'Done Initializing'"
   ]
  },
  {
   "cell_type": "markdown",
   "metadata": {},
   "source": [
    "\t\n",
    "<br>\n",
    "\tDynamically call feature methods and generate feature vector from pcap file<br>\n"
   ]
  },
  {
   "cell_type": "code",
   "execution_count": 3,
   "metadata": {},
   "outputs": [],
   "source": [
    "\tdef pcap_to_feature_vector(self, pcap_path, label=1):\n",
    "\t\t# print 'Processing: ' + repr(str(pcap_path))\n",
    "\t\tsess = Session.from_filename(pcap_path)\n",
    "\t\tfeature_vector = np.array([])\n",
    "\t\tfor method_name in self.feature_methods:\n",
    "\t\t\tmethod = getattr(sess, method_name)\n",
    "\t\t\tif not method:\n",
    "\t\t\t    raise Exception(\"Method %s not implemented\" % method_name)\n",
    "\t\t\tfeature_vector = np.append(feature_vector, method())\n",
    "\t\tfeature_vector = np.append(feature_vector, label)\n",
    "\t\treturn feature_vector"
   ]
  },
  {
   "cell_type": "markdown",
   "metadata": {},
   "source": [
    "\t\n",
    " Return a list of sample feature vectors for a given child data directory \n",
    "<br>\n",
    "\tdef sessions_to_samples(self, CHILD_DIRECTORY):<br>\n",
    "\t\tprint 'In: ' + repr(str(CHILD_DIRECTORY))<br>\n",
    "\t\tonly_pcap_files = gen_pcap_filenames(CHILD_DIRECTORY)<br>\n",
    "\t\tif len(only_pcap_files) > 0:<br>\n",
    "\t\n",
    " IMPLEMENT \n"
   ]
  },
  {
   "cell_type": "code",
   "execution_count": null,
   "metadata": {},
   "outputs": [],
   "source": [
    "\t\t\t# label_data_file = get_label_data_hcl_file()\n",
    "\t\t\t# label = gen_label(label_data_file)\n",
    "\t\t\tos = parse_folder_name(CHILD_DIRECTORY)\n",
    "\t\t\tlabel = gen_label(os,'','','')\n",
    "\t\t\tfunc = partial(self.pcap_to_feature_vector, label=label)\n",
    "\t\t\tsamples = map(func, only_pcap_files)\n",
    "\t\t\treturn samples\n",
    "\t\treturn np.array([])"
   ]
  },
  {
   "cell_type": "markdown",
   "metadata": {},
   "source": [
    "\t\n",
    " Push the button \n",
    "<br>\n",
    "\tdef activate(self):<br>\n",
    "\t\tsamples = map(self.sessions_to_samples, self.data_folders)<br>\n",
    "\t\tself.all_samples = np.concatenate(samples)<br>\n",
    "  \n"
   ]
  },
  {
   "cell_type": "code",
   "execution_count": null,
   "metadata": {},
   "outputs": [],
   "source": [
    "\tdef get_samples(self):\n",
    "\t\treturn self.all_samples"
   ]
  },
  {
   "cell_type": "markdown",
   "metadata": {},
   "source": [
    "\t\n",
    " TEST THIS ... [] operator \n",
    "<br>\n",
    "\tdef __getitem__(self,index):<br>\n",
    "\t\treturn self.all_samples[index]<br>\n",
    " TEST THIS ... return an iterator \n"
   ]
  },
  {
   "cell_type": "code",
   "execution_count": null,
   "metadata": {},
   "outputs": [],
   "source": [
    "\tdef __iter__(self):\n",
    "\t\treturn iter(self.all_samples)"
   ]
  },
  {
   "cell_type": "markdown",
   "metadata": {},
   "source": [
    "\t\n",
    " Write samples to csv \n",
    "<br>\n",
    "\tdef write_to_csv(self, file_name, separator, column_names):<br>\n",
    "\t\tsdf = pd.DataFrame(self.all_samples, columns=column_names)<br>\n",
    "\t\tsdf.to_csv(file_name, sep=separator, index=False)"
   ]
  }
 ],
 "metadata": {
  "kernelspec": {
   "display_name": "Python 3",
   "language": "python",
   "name": "python3"
  },
  "language_info": {
   "codemirror_mode": {
    "name": "ipython",
    "version": 3
   },
   "file_extension": ".py",
   "mimetype": "text/x-python",
   "name": "python",
   "nbconvert_exporter": "python",
   "pygments_lexer": "ipython3",
   "version": "3.6.5"
  }
 },
 "nbformat": 4,
 "nbformat_minor": 2
}
