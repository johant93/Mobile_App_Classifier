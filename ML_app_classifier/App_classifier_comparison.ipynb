{
 "cells": [
  {
   "cell_type": "code",
   "execution_count": 1,
   "metadata": {},
   "outputs": [],
   "source": [
    "%matplotlib inline"
   ]
  },
  {
   "cell_type": "markdown",
   "metadata": {},
   "source": [
    "\n",
    "# Classifier comparison\n",
    "\n",
    "\n",
    "A comparison of a several classifiers in scikit-learn on synthetic datasets.\n",
    "The point of this example is to illustrate the nature of decision boundaries\n",
    "of different classifiers.\n",
    "This should be taken with a grain of salt, as the intuition conveyed by\n",
    "these examples does not necessarily carry over to real datasets.\n",
    "\n",
    "Particularly in high-dimensional spaces, data can more easily be separated\n",
    "linearly and the simplicity of classifiers such as naive Bayes and linear SVMs\n",
    "might lead to better generalization than is achieved by other classifiers.\n",
    "\n",
    "The plots show training points in solid colors and testing points\n",
    "semi-transparent. The lower right shows the classification accuracy on the test\n",
    "set.\n",
    "\n"
   ]
  },
  {
   "cell_type": "code",
   "execution_count": 15,
   "metadata": {},
   "outputs": [
    {
     "name": "stdout",
     "output_type": "stream",
     "text": [
      "Automatically created module for IPython interactive environment\n",
      "Nearest Neighbors score :: 0.8779174147217235\n",
      "RBF SVM score :: 0.7899461400359067\n",
      "Decision Tree score :: 0.9569120287253142\n",
      "Random Forest score :: 0.9658886894075404\n"
     ]
    },
    {
     "name": "stderr",
     "output_type": "stream",
     "text": [
      "/Library/Frameworks/Python.framework/Versions/3.6/lib/python3.6/site-packages/sklearn/ensemble/forest.py:248: FutureWarning: The default value of n_estimators will change from 10 in version 0.20 to 100 in 0.22.\n",
      "  \"10 in version 0.20 to 100 in 0.22.\", FutureWarning)\n"
     ]
    },
    {
     "name": "stdout",
     "output_type": "stream",
     "text": [
      "Neural Net score :: 0.7809694793536804\n",
      "AdaBoost score :: 0.9156193895870736\n",
      "Naive Bayes score :: 0.7648114901256733\n",
      "QDA score :: 0.6050269299820467\n"
     ]
    },
    {
     "name": "stderr",
     "output_type": "stream",
     "text": [
      "/Library/Frameworks/Python.framework/Versions/3.6/lib/python3.6/site-packages/sklearn/discriminant_analysis.py:686: UserWarning: Variables are collinear\n",
      "  warnings.warn(\"Variables are collinear\")\n"
     ]
    }
   ],
   "source": [
    "print(__doc__)\n",
    "\n",
    "\n",
    "# Code source: Gaël Varoquaux\n",
    "#              Andreas Müller\n",
    "# Modified for documentation by Jaques Grobler\n",
    "# License: BSD 3 clause\n",
    "\n",
    "import numpy as np\n",
    "import pandas as pd\n",
    "import matplotlib.pyplot as plt\n",
    "from matplotlib.colors import ListedColormap\n",
    "from sklearn.model_selection import train_test_split\n",
    "from sklearn.preprocessing import StandardScaler\n",
    "from sklearn.datasets import make_moons, make_circles, make_classification\n",
    "from sklearn.neural_network import MLPClassifier\n",
    "from sklearn.neighbors import KNeighborsClassifier\n",
    "from sklearn.svm import SVC\n",
    "from sklearn.gaussian_process import GaussianProcessClassifier\n",
    "from sklearn.gaussian_process.kernels import RBF\n",
    "from sklearn.tree import DecisionTreeClassifier\n",
    "from sklearn.ensemble import RandomForestClassifier, AdaBoostClassifier\n",
    "from sklearn.naive_bayes import GaussianNB\n",
    "from sklearn.discriminant_analysis import QuadraticDiscriminantAnalysis\n",
    "\n",
    "h = .02  # step size in the mesh\n",
    "INPUT_PATH = \"/Users/joh/Desktop/מדמ״ח/Final_Project_Data/splittedData/iphone7/allIphoneData.csv\"\n",
    "# Headers\n",
    "HEADERS = [\"packet_count\", \"mean_packet_size\", \"sizevar\", \"std_fiat\", \"std_biat\", \"fpackets\", \"bpackets\", \"fbytes\", \"bbytes\", \"min_fiat\", \"min_biat\", \"max_fiat\", \"max_biat\", \"std_fiat\", \"std_biat\", \"mean_fiat\", \"mean_biat\", \"min_fpkt\", \"min_bpkt\", \"max_fpkt\", \"max_bpkt\", \"std_fpkt\", \"std_bpkt\", \"mean_fpkt\", \"mean_bpkt\",\"label\"]\n",
    "\n",
    "\n",
    "names = [\"Nearest Neighbors\",\"RBF SVM\",\n",
    "         \"Decision Tree\", \"Random Forest\", \"Neural Net\", \"AdaBoost\",\n",
    "         \"Naive Bayes\", \"QDA\"]\n",
    "\n",
    "classifiers = [\n",
    "    KNeighborsClassifier(3),\n",
    "    SVC(gamma=2, C=1),\n",
    "    DecisionTreeClassifier(max_depth=10),\n",
    "    RandomForestClassifier(max_depth=5, n_estimators=10, max_features=1),\n",
    "    MLPClassifier(alpha=1, max_iter=1000),\n",
    "    AdaBoostClassifier(),\n",
    "    GaussianNB(),\n",
    "    QuadraticDiscriminantAnalysis()]\n",
    "\n",
    "dataset = pd.read_csv(INPUT_PATH,sep='\\t')\n",
    "\n",
    "X = dataset[HEADERS[1:-1]]\n",
    "y = dataset[HEADERS[-1]]\n",
    "\n",
    "X_train, X_test, y_train, y_test = train_test_split(X, y, test_size=.3)\n",
    "\n",
    "# iterate over classifiers\n",
    "for name, clf in zip(names, classifiers):\n",
    "   \n",
    "        clf.fit(X_train, y_train)\n",
    "        score = clf.score(X_test, y_test)\n",
    "        print(\"{} score :: {}\".format(name , score))"
   ]
  },
  {
   "cell_type": "code",
   "execution_count": null,
   "metadata": {},
   "outputs": [],
   "source": []
  }
 ],
 "metadata": {
  "kernelspec": {
   "display_name": "Python 3",
   "language": "python",
   "name": "python3"
  },
  "language_info": {
   "codemirror_mode": {
    "name": "ipython",
    "version": 3
   },
   "file_extension": ".py",
   "mimetype": "text/x-python",
   "name": "python",
   "nbconvert_exporter": "python",
   "pygments_lexer": "ipython3",
   "version": "3.6.5"
  }
 },
 "nbformat": 4,
 "nbformat_minor": 1
}
