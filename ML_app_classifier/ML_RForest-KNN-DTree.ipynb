{
 "cells": [
  {
   "cell_type": "code",
   "execution_count": 1,
   "metadata": {},
   "outputs": [],
   "source": [
    "# Required Python Packages\n",
    "import pandas as pd\n",
    "import matplotlib.pyplot as plt\n",
    "import numpy as np\n",
    "from sklearn.model_selection import train_test_split\n",
    "from sklearn.ensemble import RandomForestClassifier\n",
    "from sklearn.neighbors import KNeighborsClassifier\n",
    "from sklearn.tree import DecisionTreeClassifier\n",
    "from sklearn.metrics import accuracy_score\n",
    "from sklearn.metrics import confusion_matrix\n",
    " \n",
    "import pdb\n",
    "\n",
    "# File Paths\n",
    "IPHONE_DATA_PATH = \"/Users/joh/Desktop/מדמ״ח/Final_Project_Data/CSV/AlliphoneData.csv\"\n",
    "ONEPLUS_DATA_PATH = \"/Users/joh/Desktop/מדמ״ח/Final_Project_Data/CSV/AllOneplusData.csv\"\n",
    "ALL_DATA_PATH = \"/Users/joh/Desktop/מדמ״ח/Final_Project_Data/CSV/All_Data.csv\"\n",
    "LABELED_BY_DEVICE = \"/Users/joh/Desktop/מדמ״ח/Final_Project_Data/CSV/labeled_by_device.csv\"\n",
    "NEW_FEATURES = \"/Users/joh/Desktop/מדמ״ח/Final_Project_Data/CSV/newfeature.csv\"\n",
    "ALL_COMBINED_FEATURES = \"/Users/joh/Desktop/מדמ״ח/Final_Project_Data/CSV/combined_features.csv\"\n"
   ]
  },
  {
   "cell_type": "code",
   "execution_count": 2,
   "metadata": {},
   "outputs": [
    {
     "data": {
      "text/plain": [
       "['stat_0',\n",
       " 'stat_1',\n",
       " 'stat_2',\n",
       " 'stat_3',\n",
       " 'stat_4',\n",
       " 'stat_5',\n",
       " 'stat_6',\n",
       " 'stat_7',\n",
       " 'stat_8',\n",
       " 'stat_9',\n",
       " 'stat_10',\n",
       " 'stat_11',\n",
       " 'stat_12',\n",
       " 'stat_13',\n",
       " 'stat_14',\n",
       " 'stat_15',\n",
       " 'stat_16',\n",
       " 'stat_17',\n",
       " 'stat_18',\n",
       " 'stat_19',\n",
       " 'stat_20',\n",
       " 'stat_21',\n",
       " 'stat_22',\n",
       " 'stat_23',\n",
       " 'stat_24',\n",
       " 'stat_25',\n",
       " 'stat_26',\n",
       " 'stat_27',\n",
       " 'stat_28',\n",
       " 'stat_29',\n",
       " 'stat_30',\n",
       " 'stat_31',\n",
       " 'stat_32',\n",
       " 'stat_33',\n",
       " 'stat_34',\n",
       " 'stat_35',\n",
       " 'stat_36',\n",
       " 'stat_37',\n",
       " 'stat_38',\n",
       " 'stat_39',\n",
       " 'stat_40',\n",
       " 'stat_41',\n",
       " 'stat_42',\n",
       " 'stat_43',\n",
       " 'stat_44',\n",
       " 'stat_45',\n",
       " 'stat_46',\n",
       " 'stat_47',\n",
       " 'stat_48',\n",
       " 'stat_49',\n",
       " 'stat_50',\n",
       " 'stat_51',\n",
       " 'stat_52',\n",
       " 'stat_53',\n",
       " 'stat_54',\n",
       " 'stat_55',\n",
       " 'stat_56',\n",
       " 'stat_57',\n",
       " 'stat_58',\n",
       " 'stat_59',\n",
       " 'label']"
      ]
     },
     "execution_count": 2,
     "metadata": {},
     "output_type": "execute_result"
    }
   ],
   "source": [
    "# Headers\n",
    "#HEADERS = [\"packet_count\", \"mean_packet_size\", \"sizevar\", \"std_fiat\", \"std_biat\", \"fpackets\", \"bpackets\", \"fbytes\", \"bbytes\", \"min_fiat\", \"min_biat\", \"max_fiat\", \"max_biat\", \"std_fiat\", \"std_biat\", \"mean_fiat\", \"mean_biat\", \"min_fpkt\", \"min_bpkt\", \"max_fpkt\", \"max_bpkt\", \"std_fpkt\", \"std_bpkt\", \"mean_fpkt\", \"mean_bpkt\"]\n",
    "newfeatures = []\n",
    "for i in range(0,60):\n",
    "     newfeatures.append('stat_'+str(i))\n",
    "newfeatures.append('label')\n",
    "HEADERS = newfeatures\n",
    "\n",
    "HEADERS"
   ]
  },
  {
   "cell_type": "code",
   "execution_count": 3,
   "metadata": {},
   "outputs": [],
   "source": [
    "def read_data(path):\n",
    "    \"\"\"\n",
    "    Read the data into pandas dataframe\n",
    "    :param path:\n",
    "    :return:\n",
    "    \"\"\"\n",
    "    data = pd.read_csv(path,sep='\\t')\n",
    "    return data"
   ]
  },
  {
   "cell_type": "code",
   "execution_count": 4,
   "metadata": {
    "scrolled": true
   },
   "outputs": [],
   "source": [
    "#read_data(INPUT_PATH)"
   ]
  },
  {
   "cell_type": "code",
   "execution_count": 5,
   "metadata": {},
   "outputs": [],
   "source": [
    "def dataset_statistics(dataset):\n",
    "    \"\"\"\n",
    "    Basic statistics of the dataset\n",
    "    :param dataset: Pandas dataframe\n",
    "    :return: None, print the basic statistics of the dataset\n",
    "    \"\"\"\n",
    "    print (dataset.describe())"
   ]
  },
  {
   "cell_type": "code",
   "execution_count": 6,
   "metadata": {},
   "outputs": [],
   "source": [
    "def handel_missing_values(dataset, missing_values_header, missing_label):\n",
    "    \"\"\"\n",
    "    Filter missing values from the dataset\n",
    "    :param dataset:\n",
    "    :param missing_values_header:\n",
    "    :param missing_label:\n",
    "    :return:\n",
    "    \"\"\"\n",
    " \n",
    "    return dataset[dataset[missing_values_header] != missing_label]"
   ]
  },
  {
   "cell_type": "code",
   "execution_count": 7,
   "metadata": {},
   "outputs": [],
   "source": [
    "def split_dataset(dataset, train_percentage, feature_headers, target_header):\n",
    "    \"\"\"\n",
    "    Split the dataset with train_percentage\n",
    "    :param dataset:\n",
    "    :param train_percentage:\n",
    "    :param feature_headers:\n",
    "    :param target_header:\n",
    "    :return: train_x, test_x, train_y, test_y\n",
    "    \"\"\"\n",
    " \n",
    "    # Split dataset into train and test dataset\n",
    "    train_x, test_x, train_y, test_y = train_test_split(dataset[feature_headers], dataset[target_header],train_size=train_percentage)\n",
    "    return train_x, test_x, train_y, test_y"
   ]
  },
  {
   "cell_type": "code",
   "execution_count": 8,
   "metadata": {},
   "outputs": [],
   "source": [
    "def random_forest_classifier(features, target,max_depth,estimators, min_samples_split, max_features):\n",
    "    \"\"\"\n",
    "    To train the random forest classifier with features and target data\n",
    "    :param features:\n",
    "    :param target:\n",
    "    :param estimators:\n",
    "    :param min_samples_split:\n",
    "    :return: trained random forest classifier\n",
    "    \"\"\"\n",
    "#     min_samples_split=5    \n",
    "#     estimators = 32\n",
    "    clf = RandomForestClassifier(n_estimators=estimators, max_depth=max_depth,min_samples_split=min_samples_split,max_features=max_features)\n",
    "    clf.fit(features, target)\n",
    "    return clf"
   ]
  },
  {
   "cell_type": "code",
   "execution_count": 9,
   "metadata": {},
   "outputs": [],
   "source": [
    "def Decision_TreeClassifier(features, target, max_depth):\n",
    "    \"\"\"\n",
    "    To train the Decision Tree Classifier with features and target data\n",
    "    :param features:\n",
    "    :param target:\n",
    "    :param max_depth:\n",
    "    :return: trained decision tree classifier\n",
    "    \"\"\"\n",
    "    dtc = DecisionTreeClassifier(max_depth=max_depth)\n",
    "    dtc.fit(features, target)\n",
    "    return dtc"
   ]
  },
  {
   "cell_type": "code",
   "execution_count": 10,
   "metadata": {},
   "outputs": [],
   "source": [
    "def knn_classifier(features, target, neighbors):\n",
    "    \"\"\"\n",
    "    To train the knn classifier with features and target data\n",
    "    :param features:\n",
    "    :param target:\n",
    "    :param neighbors:\n",
    "    :return: trained knn classifier\n",
    "    \"\"\"\n",
    "    cknn = KNeighborsClassifier(neighbors)\n",
    "    cknn.fit(features, target)\n",
    "    return cknn"
   ]
  },
  {
   "cell_type": "code",
   "execution_count": 11,
   "metadata": {},
   "outputs": [
    {
     "name": "stdout",
     "output_type": "stream",
     "text": [
      "Train_x Shape ::  (1792, 59)\n",
      "Train_y Shape ::  (1792,)\n",
      "Test_x Shape ::  (768, 59)\n",
      "Test_y Shape ::  (768,)\n"
     ]
    },
    {
     "name": "stderr",
     "output_type": "stream",
     "text": [
      "/Library/Frameworks/Python.framework/Versions/3.6/lib/python3.6/site-packages/sklearn/model_selection/_split.py:2069: FutureWarning: From version 0.21, test_size will always complement train_size unless both are specified.\n",
      "  FutureWarning)\n"
     ]
    },
    {
     "data": {
      "text/html": [
       "<div>\n",
       "<style scoped>\n",
       "    .dataframe tbody tr th:only-of-type {\n",
       "        vertical-align: middle;\n",
       "    }\n",
       "\n",
       "    .dataframe tbody tr th {\n",
       "        vertical-align: top;\n",
       "    }\n",
       "\n",
       "    .dataframe thead th {\n",
       "        text-align: right;\n",
       "    }\n",
       "</style>\n",
       "<table border=\"1\" class=\"dataframe\">\n",
       "  <thead>\n",
       "    <tr style=\"text-align: right;\">\n",
       "      <th></th>\n",
       "      <th>packet_count</th>\n",
       "      <th>mean_packet_size</th>\n",
       "      <th>sizevar</th>\n",
       "      <th>std_fiat</th>\n",
       "      <th>std_biat</th>\n",
       "      <th>fpackets</th>\n",
       "      <th>bpackets</th>\n",
       "      <th>fbytes</th>\n",
       "      <th>bbytes</th>\n",
       "      <th>min_fiat</th>\n",
       "      <th>...</th>\n",
       "      <th>mean_biat</th>\n",
       "      <th>min_fpkt</th>\n",
       "      <th>min_bpkt</th>\n",
       "      <th>max_fpkt</th>\n",
       "      <th>max_bpkt</th>\n",
       "      <th>std_fpkt</th>\n",
       "      <th>std_bpkt</th>\n",
       "      <th>mean_fpkt</th>\n",
       "      <th>mean_bpkt</th>\n",
       "      <th>label</th>\n",
       "    </tr>\n",
       "  </thead>\n",
       "  <tbody>\n",
       "    <tr>\n",
       "      <th>1</th>\n",
       "      <td>13.0</td>\n",
       "      <td>74.615385</td>\n",
       "      <td>251.923077</td>\n",
       "      <td>0.012089</td>\n",
       "      <td>0.037261</td>\n",
       "      <td>7.0</td>\n",
       "      <td>6.0</td>\n",
       "      <td>512.0</td>\n",
       "      <td>458.0</td>\n",
       "      <td>0.0</td>\n",
       "      <td>...</td>\n",
       "      <td>0.021651</td>\n",
       "      <td>54.0</td>\n",
       "      <td>66.0</td>\n",
       "      <td>97.0</td>\n",
       "      <td>97.0</td>\n",
       "      <td>16.876301</td>\n",
       "      <td>16.008331</td>\n",
       "      <td>73.142857</td>\n",
       "      <td>76.333333</td>\n",
       "      <td>0.0</td>\n",
       "    </tr>\n",
       "    <tr>\n",
       "      <th>2</th>\n",
       "      <td>12.0</td>\n",
       "      <td>70.000000</td>\n",
       "      <td>87.272727</td>\n",
       "      <td>0.009035</td>\n",
       "      <td>0.015349</td>\n",
       "      <td>6.0</td>\n",
       "      <td>6.0</td>\n",
       "      <td>444.0</td>\n",
       "      <td>396.0</td>\n",
       "      <td>0.0</td>\n",
       "      <td>...</td>\n",
       "      <td>0.008262</td>\n",
       "      <td>66.0</td>\n",
       "      <td>66.0</td>\n",
       "      <td>90.0</td>\n",
       "      <td>66.0</td>\n",
       "      <td>12.393547</td>\n",
       "      <td>0.000000</td>\n",
       "      <td>74.000000</td>\n",
       "      <td>66.000000</td>\n",
       "      <td>0.0</td>\n",
       "    </tr>\n",
       "    <tr>\n",
       "      <th>6</th>\n",
       "      <td>62.0</td>\n",
       "      <td>228.064516</td>\n",
       "      <td>253287.077737</td>\n",
       "      <td>0.954217</td>\n",
       "      <td>0.028234</td>\n",
       "      <td>35.0</td>\n",
       "      <td>27.0</td>\n",
       "      <td>4588.0</td>\n",
       "      <td>9552.0</td>\n",
       "      <td>0.0</td>\n",
       "      <td>...</td>\n",
       "      <td>0.010618</td>\n",
       "      <td>54.0</td>\n",
       "      <td>54.0</td>\n",
       "      <td>583.0</td>\n",
       "      <td>3509.0</td>\n",
       "      <td>131.818139</td>\n",
       "      <td>736.516036</td>\n",
       "      <td>131.085714</td>\n",
       "      <td>353.777778</td>\n",
       "      <td>0.0</td>\n",
       "    </tr>\n",
       "    <tr>\n",
       "      <th>7</th>\n",
       "      <td>82.0</td>\n",
       "      <td>250.024390</td>\n",
       "      <td>241619.875941</td>\n",
       "      <td>0.012083</td>\n",
       "      <td>0.012914</td>\n",
       "      <td>45.0</td>\n",
       "      <td>37.0</td>\n",
       "      <td>6900.0</td>\n",
       "      <td>13602.0</td>\n",
       "      <td>0.0</td>\n",
       "      <td>...</td>\n",
       "      <td>0.005917</td>\n",
       "      <td>66.0</td>\n",
       "      <td>66.0</td>\n",
       "      <td>912.0</td>\n",
       "      <td>2842.0</td>\n",
       "      <td>201.004636</td>\n",
       "      <td>684.371056</td>\n",
       "      <td>153.333333</td>\n",
       "      <td>367.621622</td>\n",
       "      <td>0.0</td>\n",
       "    </tr>\n",
       "    <tr>\n",
       "      <th>8</th>\n",
       "      <td>81.0</td>\n",
       "      <td>358.790123</td>\n",
       "      <td>244592.267901</td>\n",
       "      <td>0.288886</td>\n",
       "      <td>0.055841</td>\n",
       "      <td>44.0</td>\n",
       "      <td>37.0</td>\n",
       "      <td>16086.0</td>\n",
       "      <td>12976.0</td>\n",
       "      <td>0.0</td>\n",
       "      <td>...</td>\n",
       "      <td>0.030683</td>\n",
       "      <td>54.0</td>\n",
       "      <td>66.0</td>\n",
       "      <td>1247.0</td>\n",
       "      <td>3303.0</td>\n",
       "      <td>377.542686</td>\n",
       "      <td>610.868501</td>\n",
       "      <td>365.590909</td>\n",
       "      <td>350.702703</td>\n",
       "      <td>0.0</td>\n",
       "    </tr>\n",
       "  </tbody>\n",
       "</table>\n",
       "<p>5 rows × 26 columns</p>\n",
       "</div>"
      ],
      "text/plain": [
       "   packet_count  mean_packet_size        sizevar  std_fiat  std_biat  \\\n",
       "1          13.0         74.615385     251.923077  0.012089  0.037261   \n",
       "2          12.0         70.000000      87.272727  0.009035  0.015349   \n",
       "6          62.0        228.064516  253287.077737  0.954217  0.028234   \n",
       "7          82.0        250.024390  241619.875941  0.012083  0.012914   \n",
       "8          81.0        358.790123  244592.267901  0.288886  0.055841   \n",
       "\n",
       "   fpackets  bpackets   fbytes   bbytes  min_fiat  ...  mean_biat  min_fpkt  \\\n",
       "1       7.0       6.0    512.0    458.0       0.0  ...   0.021651      54.0   \n",
       "2       6.0       6.0    444.0    396.0       0.0  ...   0.008262      66.0   \n",
       "6      35.0      27.0   4588.0   9552.0       0.0  ...   0.010618      54.0   \n",
       "7      45.0      37.0   6900.0  13602.0       0.0  ...   0.005917      66.0   \n",
       "8      44.0      37.0  16086.0  12976.0       0.0  ...   0.030683      54.0   \n",
       "\n",
       "   min_bpkt  max_fpkt  max_bpkt    std_fpkt    std_bpkt   mean_fpkt  \\\n",
       "1      66.0      97.0      97.0   16.876301   16.008331   73.142857   \n",
       "2      66.0      90.0      66.0   12.393547    0.000000   74.000000   \n",
       "6      54.0     583.0    3509.0  131.818139  736.516036  131.085714   \n",
       "7      66.0     912.0    2842.0  201.004636  684.371056  153.333333   \n",
       "8      66.0    1247.0    3303.0  377.542686  610.868501  365.590909   \n",
       "\n",
       "    mean_bpkt  label  \n",
       "1   76.333333    0.0  \n",
       "2   66.000000    0.0  \n",
       "6  353.777778    0.0  \n",
       "7  367.621622    0.0  \n",
       "8  350.702703    0.0  \n",
       "\n",
       "[5 rows x 26 columns]"
      ]
     },
     "execution_count": 11,
     "metadata": {},
     "output_type": "execute_result"
    }
   ],
   "source": [
    "\n",
    "# Load the csv file into pandas dataframe\n",
    "iphone_dataset = read_data(IPHONE_DATA_PATH)\n",
    "oneplus_dataset = read_data(ONEPLUS_DATA_PATH)\n",
    "all_dataset = pd.read_csv(ALL_DATA_PATH,sep=';')\n",
    "os_labeled_dataset = read_data(LABELED_BY_DEVICE)\n",
    "allfeat_dataset = read_data(ALL_COMBINED_FEATURES)\n",
    "oldfeat_dataset = read_data(NEW_FEATURES)\n",
    "\n",
    "\n",
    "# Get basic statistics of the loaded dataset\n",
    "#dataset_statistics(dataset)\n",
    "\n",
    "# Filter missing values\n",
    "#os_labeled_dataset = handel_missing_values(os_labeled_dataset, HEADERS[8], 0.0)\n",
    "os_labeled_dataset = os_labeled_dataset.dropna()\n",
    "\n",
    "train_x, test_x, train_y, test_y = split_dataset(allfeat_dataset, 0.7, HEADERS[1:-1], HEADERS[-1])\n",
    "\n",
    "# Train and Test dataset size details\n",
    "print (\"Train_x Shape :: \", train_x.shape)\n",
    "print (\"Train_y Shape :: \", train_y.shape)\n",
    "print (\"Test_x Shape :: \", test_x.shape)\n",
    "print (\"Test_y Shape :: \", test_y.shape)\n",
    "\n",
    "os_labeled_dataset.head()\n"
   ]
  },
  {
   "cell_type": "code",
   "execution_count": 12,
   "metadata": {},
   "outputs": [],
   "source": [
    "from matplotlib.legend_handler import HandlerLine2D\n",
    "\n",
    "def TrainTestpltShow(values, train_results, test_results, valueName):\n",
    "    line1, = plt.plot(values, train_results,'b', label=\"Train Accuracy\")\n",
    "    line2, = plt.plot(values, test_results, 'r', label=\"Test Accuracy\")\n",
    "    plt.legend(handler_map={line1: HandlerLine2D(numpoints=2)})\n",
    "    plt.ylabel('Accuracy')\n",
    "    plt.xlabel(valueName)\n",
    "    plt.show()"
   ]
  },
  {
   "cell_type": "code",
   "execution_count": 13,
   "metadata": {},
   "outputs": [],
   "source": [
    "def show_best_accuracy(train_results,test_results,parameters):\n",
    "    max_train_accuracy = 0\n",
    "    max_test_accuracy = 0\n",
    "    best_test_param = 0\n",
    "    index = 0\n",
    "    for n in parameters:\n",
    "        if(train_results[index] >= max_train_accuracy):\n",
    "            max_train_accuracy = train_results[index]\n",
    "            \n",
    "        if(test_results[index] >= max_test_accuracy):\n",
    "            max_test_accuracy = test_results[index]\n",
    "            best_test_param = n\n",
    "        index+=1\n",
    "        \n",
    "    print(\"max train accuracy :: \",max_train_accuracy)\n",
    "    print(\"max test accuracy :: \",max_test_accuracy)\n",
    "    print(\"best test param :: \",best_test_param)\n"
   ]
  },
  {
   "cell_type": "code",
   "execution_count": 14,
   "metadata": {},
   "outputs": [],
   "source": [
    "def print_confusion_matrix(classifier):\n",
    "    predictions = classifier.predict(test_x)\n",
    "    print (\" Confusion matrix \", confusion_matrix(test_y, predictions))\n",
    "\n"
   ]
  },
  {
   "cell_type": "code",
   "execution_count": 15,
   "metadata": {},
   "outputs": [
    {
     "name": "stdout",
     "output_type": "stream",
     "text": [
      "max train accuracy ::  1.0\n",
      "max test accuracy ::  0.9921875\n",
      "best test param ::  100\n"
     ]
    },
    {
     "data": {
      "image/png": "[encoded data removed]",
      "text/plain": [
       "<Figure size 432x288 with 1 Axes>"
      ]
     },
     "metadata": {
      "needs_background": "light"
     },
     "output_type": "display_data"
    }
   ],
   "source": [
    "# Create random forest classifier instance\n",
    "# Accuracy depending to number of estimators.\n",
    "#max_depth,estimators, min_samples_split, max_features\n",
    "n_estimators = [1, 2, 4, 8, 16, 32, 64, 100, 200, 400]\n",
    "min_sample_split = 4\n",
    "train_results = []\n",
    "test_results = []\n",
    "for n in n_estimators:\n",
    "    trained_model_rf = random_forest_classifier(train_x, train_y,10, n, min_sample_split,1)\n",
    "    ac_train = accuracy_score(train_y, trained_model_rf.predict(train_x))\n",
    "    ac_test = accuracy_score(test_y, trained_model_rf.predict(test_x))\n",
    "    train_results.append(ac_train)\n",
    "    test_results.append(ac_test)\n",
    "    \n",
    "show_best_accuracy(train_results,test_results,n_estimators)\n",
    "TrainTestpltShow(n_estimators, train_results, test_results, \"n_estimators\")\n",
    "\n",
    "# predictions = trained_model_rf.predict(test_x)\n",
    "# for i in range(0, 100):\n",
    "#     if (i%10 == 0):\n",
    "#         print (\"Actual outcome :: {} and Predicted outcome :: {}\".format(list(test_y)[i], predictions[i]))\n",
    "\n",
    "# print (\"\\n\")\n",
    "# print (\"Train Accuracy :: \", accuracy_score(train_y, trained_model_rf.predict(train_x)))\n",
    "# print (\"Test Accuracy  :: \", accuracy_score(test_y, predictions))\n",
    "# print (\" Confusion matrix \", confusion_matrix(test_y, predictions))"
   ]
  },
  {
   "cell_type": "code",
   "execution_count": 38,
   "metadata": {},
   "outputs": [
    {
     "ename": "TypeError",
     "evalue": "random_forest_classifier() missing 2 required positional arguments: 'min_samples_split' and 'max_features'",
     "output_type": "error",
     "traceback": [
      "\u001b[0;31m---------------------------------------------------------------------------\u001b[0m",
      "\u001b[0;31mTypeError\u001b[0m                                 Traceback (most recent call last)",
      "\u001b[0;32m<ipython-input-38-d8a8c386c549>\u001b[0m in \u001b[0;36m<module>\u001b[0;34m\u001b[0m\n\u001b[1;32m      6\u001b[0m \u001b[0mtest_results\u001b[0m \u001b[0;34m=\u001b[0m \u001b[0;34m[\u001b[0m\u001b[0;34m]\u001b[0m\u001b[0;34m\u001b[0m\u001b[0m\n\u001b[1;32m      7\u001b[0m \u001b[0;32mfor\u001b[0m \u001b[0mval\u001b[0m \u001b[0;32min\u001b[0m \u001b[0mmin_samples_splits\u001b[0m\u001b[0;34m:\u001b[0m\u001b[0;34m\u001b[0m\u001b[0m\n\u001b[0;32m----> 8\u001b[0;31m     \u001b[0mtrained_model_rf\u001b[0m \u001b[0;34m=\u001b[0m \u001b[0mrandom_forest_classifier\u001b[0m\u001b[0;34m(\u001b[0m\u001b[0mtrain_x\u001b[0m\u001b[0;34m,\u001b[0m \u001b[0mtrain_y\u001b[0m\u001b[0;34m,\u001b[0m \u001b[0mn_estimators\u001b[0m\u001b[0;34m,\u001b[0m \u001b[0mval\u001b[0m\u001b[0;34m)\u001b[0m\u001b[0;34m\u001b[0m\u001b[0m\n\u001b[0m\u001b[1;32m      9\u001b[0m     \u001b[0mac_train\u001b[0m \u001b[0;34m=\u001b[0m \u001b[0maccuracy_score\u001b[0m\u001b[0;34m(\u001b[0m\u001b[0mtrain_y\u001b[0m\u001b[0;34m,\u001b[0m \u001b[0mtrained_model_rf\u001b[0m\u001b[0;34m.\u001b[0m\u001b[0mpredict\u001b[0m\u001b[0;34m(\u001b[0m\u001b[0mtrain_x\u001b[0m\u001b[0;34m)\u001b[0m\u001b[0;34m)\u001b[0m\u001b[0;34m\u001b[0m\u001b[0m\n\u001b[1;32m     10\u001b[0m     \u001b[0mac_test\u001b[0m \u001b[0;34m=\u001b[0m \u001b[0maccuracy_score\u001b[0m\u001b[0;34m(\u001b[0m\u001b[0mtest_y\u001b[0m\u001b[0;34m,\u001b[0m \u001b[0mtrained_model_rf\u001b[0m\u001b[0;34m.\u001b[0m\u001b[0mpredict\u001b[0m\u001b[0;34m(\u001b[0m\u001b[0mtest_x\u001b[0m\u001b[0;34m)\u001b[0m\u001b[0;34m)\u001b[0m\u001b[0;34m\u001b[0m\u001b[0m\n",
      "\u001b[0;31mTypeError\u001b[0m: random_forest_classifier() missing 2 required positional arguments: 'min_samples_split' and 'max_features'"
     ]
    }
   ],
   "source": [
    "# Create random forest classifier instance\n",
    "# Accuracy depending to min samples splite value.\n",
    "n_estimators = 100\n",
    "min_samples_splits = list(range(2,30)) #np.linspace(0.1, 1.0, 10, endpoint=True)\n",
    "train_results = []\n",
    "test_results = []\n",
    "for val in min_samples_splits:\n",
    "    trained_model_rf = random_forest_classifier(train_x, train_y, n_estimators, val)\n",
    "    ac_train = accuracy_score(train_y, trained_model_rf.predict(train_x))\n",
    "    ac_test = accuracy_score(test_y, trained_model_rf.predict(test_x))\n",
    "    train_results.append(ac_train)\n",
    "    test_results.append(ac_test)\n",
    "\n",
    "show_best_accuracy(train_results,test_results,min_samples_splits)\n",
    "TrainTestpltShow(min_samples_splits, train_results, test_results, \"min_samples_splits\")"
   ]
  },
  {
   "cell_type": "code",
   "execution_count": 16,
   "metadata": {},
   "outputs": [
    {
     "name": "stdout",
     "output_type": "stream",
     "text": [
      "max train accuracy ::  1.0\n",
      "max test accuracy ::  0.87109375\n",
      "best test param ::  13\n"
     ]
    },
    {
     "data": {
      "image/png": "[encoded data removed]",
      "text/plain": [
       "<Figure size 432x288 with 1 Axes>"
      ]
     },
     "metadata": {
      "needs_background": "light"
     },
     "output_type": "display_data"
    }
   ],
   "source": [
    "# Create knn classifier instance\n",
    "# accuracy depending to number of neighbors (1 to 30)\n",
    "neighbors = list(range(1,30))\n",
    "train_results = []\n",
    "test_results = []\n",
    "\n",
    "for n in neighbors:\n",
    "    trained_model_knn = knn_classifier(train_x, train_y, n)\n",
    "    ac_train = accuracy_score(train_y, trained_model_knn.predict(train_x))\n",
    "    ac_test = accuracy_score(test_y, trained_model_knn.predict(test_x))\n",
    "    train_results.append(ac_train)\n",
    "    test_results.append(ac_test)\n",
    "\n",
    "show_best_accuracy(train_results,test_results,neighbors)\n",
    "TrainTestpltShow(neighbors, train_results, test_results, \"n_neighbors\")\n",
    "    \n",
    "# for i in range(0, 100):\n",
    "#     if (i%10 == 0):\n",
    "#         print (\"Actual outcome :: {} and Predicted outcome :: {}\".format(list(test_y)[i], predictions[i]))\n",
    "\n",
    "# print (\"\\n\")\n",
    "# print (\"neighbors :\",neighbors)\n",
    "# print (\"Train Accuracy :: \", accuracy_score(train_y, trained_model_knn.predict(train_x)))\n",
    "# print (\"Test Accuracy  :: \", accuracy_score(test_y, predictions))\n",
    "# print (\" Confusion matrix \", confusion_matrix(test_y, predictions))"
   ]
  },
  {
   "cell_type": "code",
   "execution_count": 17,
   "metadata": {},
   "outputs": [
    {
     "name": "stdout",
     "output_type": "stream",
     "text": [
      "max train accuracy ::  1.0\n",
      "max test accuracy ::  0.9986979166666666\n",
      "best test param ::  32.0\n"
     ]
    },
    {
     "data": {
      "image/png": "[encoded data removed]",
      "text/plain": [
       "<Figure size 432x288 with 1 Axes>"
      ]
     },
     "metadata": {
      "needs_background": "light"
     },
     "output_type": "display_data"
    }
   ],
   "source": [
    "# Create decision tree classifier instance\n",
    "# accuracy depending to number of neighbors (1 to 30)\n",
    "max_depths = np.linspace(1, 32, 32, endpoint=True)\n",
    "train_results = []\n",
    "test_results = []\n",
    "\n",
    "for n in max_depths:\n",
    "    trained_model_dt = Decision_TreeClassifier(train_x, train_y, n)\n",
    "    ac_train = accuracy_score(train_y, trained_model_dt.predict(train_x))\n",
    "    ac_test = accuracy_score(test_y, trained_model_dt.predict(test_x))\n",
    "    train_results.append(ac_train)\n",
    "    test_results.append(ac_test)\n",
    "    \n",
    "show_best_accuracy(train_results,test_results,max_depths)\n",
    "TrainTestpltShow(max_depths, train_results, test_results, \"max_depth\")"
   ]
  },
  {
   "cell_type": "code",
   "execution_count": 71,
   "metadata": {},
   "outputs": [
    {
     "name": "stdout",
     "output_type": "stream",
     "text": [
      "decision-tree: train accuracy = 1.0, test accuracy = 0.9921875\n"
     ]
    }
   ],
   "source": [
    "#final compariason of the 3 classifier:\n",
    "\n",
    "#decision-tree:\n",
    "trained_model_dt = Decision_TreeClassifier(train_x, train_y, 10)\n",
    "dt_ac_train = accuracy_score(train_y, trained_model_dt.predict(train_x))\n",
    "dt_ac_test = accuracy_score(test_y, trained_model_dt.predict(test_x))\n",
    "\n",
    "#random forest: max_depth=5, n_estimators=16,min_samples_split=2(default), max_features=1\n",
    "trained_model_rf = random_forest_classifier(train_x, train_y, 10,16,4,1)\n",
    "rf_ac_train = accuracy_score(train_y, trained_model_rf.predict(train_x))\n",
    "rf_ac_test = accuracy_score(test_y, trained_model_rf.predict(test_x))\n",
    "\n",
    "#knn:\n",
    "trained_model_knn = knn_classifier(train_x, train_y, 3)\n",
    "knn_ac_train = accuracy_score(train_y, trained_model_knn.predict(train_x))\n",
    "knn_ac_test = accuracy_score(test_y, trained_model_knn.predict(test_x))\n",
    "\n",
    "print(\"decision-tree: train accuracy = {}, test accuracy = {}\".format(dt_ac_train , dt_ac_test))"
   ]
  },
  {
   "cell_type": "code",
   "execution_count": 54,
   "metadata": {},
   "outputs": [
    {
     "name": "stdout",
     "output_type": "stream",
     "text": [
      "decision-tree: train accuracy = 1.0, test accuracy = 0.9908854166666666\n",
      " Confusion matrix  [[111   0   0]\n",
      " [  0 546   4]\n",
      " [  0   3 104]]\n",
      "random forest: train accuracy = 0.9994419642857143, test accuracy = 0.9765625\n",
      " Confusion matrix  [[104   5   2]\n",
      " [  5 544   1]\n",
      " [  1   4 102]]\n",
      "KNN: train accuracy = 0.9285714285714286, test accuracy = 0.8736979166666666\n",
      " Confusion matrix  [[ 73  28  10]\n",
      " [ 38 505   7]\n",
      " [  9   5  93]]\n"
     ]
    }
   ],
   "source": [
    "print(\"decision-tree: train accuracy = {}, test accuracy = {}\".format(dt_ac_train , dt_ac_test))\n",
    "print_confusion_matrix(trained_model_dt)      \n",
    "print(\"random forest: train accuracy = {}, test accuracy = {}\".format(rf_ac_train , rf_ac_test))\n",
    "print_confusion_matrix(trained_model_rf)      \n",
    "print(\"KNN: train accuracy = {}, test accuracy = {}\".format(knn_ac_train , knn_ac_test))\n",
    "print_confusion_matrix(trained_model_knn)      "
   ]
  },
  {
   "cell_type": "code",
   "execution_count": null,
   "metadata": {},
   "outputs": [],
   "source": []
  }
 ],
 "metadata": {
  "kernelspec": {
   "display_name": "Python 3",
   "language": "python",
   "name": "python3"
  },
  "language_info": {
   "codemirror_mode": {
    "name": "ipython",
    "version": 3
   },
   "file_extension": ".py",
   "mimetype": "text/x-python",
   "name": "python",
   "nbconvert_exporter": "python",
   "pygments_lexer": "ipython3",
   "version": "3.6.5"
  }
 },
 "nbformat": 4,
 "nbformat_minor": 2
}
